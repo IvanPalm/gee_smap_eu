{
 "cells": [
  {
   "cell_type": "markdown",
   "id": "04c208ed-ae65-407b-9d49-c86c29db09e9",
   "metadata": {},
   "source": [
    "### Import packages"
   ]
  },
  {
   "cell_type": "code",
   "execution_count": 1,
   "id": "be5cd6b6-d986-4818-9ca3-0a6920ae41e5",
   "metadata": {},
   "outputs": [],
   "source": [
    "import os\n",
    "import ee\n",
    "import geemap\n",
    "import matplotlib.pyplot as plt\n",
    "from geemap import cartoee\n",
    "from zipfile import ZipFile\n",
    "from urllib.request import urlretrieve\n",
    "# from urllib.parse import urljoin\n",
    "import geopandas as gpd\n",
    "from shapely.geometry import MultiPolygon, Polygon\n",
    "from pprint import pprint\n",
    "from datetime import datetime as dt\n",
    "from datetime import date\n",
    "import pandas as pd"
   ]
  },
  {
   "cell_type": "code",
   "execution_count": 2,
   "id": "bcb3419a-e9fb-4209-8b3a-b422b7a770cc",
   "metadata": {},
   "outputs": [],
   "source": [
    "try:\n",
    "    ee.Initialize()\n",
    "except Exception as e:\n",
    "    ee.Authenticate()\n",
    "    ee.Initialize()"
   ]
  },
  {
   "cell_type": "markdown",
   "id": "f6ad36fe-212c-4bb3-a443-27f4963074ad",
   "metadata": {},
   "source": [
    "### Import country borders from GEE collection and subset EU"
   ]
  },
  {
   "cell_type": "code",
   "execution_count": 10,
   "id": "d4025102-3e83-4bce-aaac-bb69b6186fe9",
   "metadata": {},
   "outputs": [
    {
     "name": "stdout",
     "output_type": "stream",
     "text": [
      "Number of features in EU: 53\n"
     ]
    }
   ],
   "source": [
    "world = ee.FeatureCollection('USDOS/LSIB_SIMPLE/2017')\n",
    "# subset EU\n",
    "eu = world.filter(\n",
    "    ee.Filter.eq('wld_rgn', 'Europe')).filter(\n",
    "    ee.Filter.eq('country_na', 'Russia').Not()).filter(\n",
    "    ee.Filter.eq('country_na', 'Svalbard').Not())\n",
    "# Add Cyprus to EU\n",
    "cyp = world.filter(ee.Filter.eq('country_na', 'Cyprus'))\n",
    "eu = ee.FeatureCollection(eu.merge(cyp))\n",
    "\n",
    "print('Number of features in EU:', eu.size().getInfo())\n",
    "# pprint(world.limit(1).getInfo()['features'][0]['properties'])"
   ]
  },
  {
   "cell_type": "code",
   "execution_count": 11,
   "id": "e44491f0-16ae-49c8-a18d-206d3e2f4630",
   "metadata": {},
   "outputs": [
    {
     "name": "stdout",
     "output_type": "stream",
     "text": [
      "Descriptive stats of EU country size:\n",
      "{'max': 595908.9587958328,\n",
      " 'mean': 110423.16327273987,\n",
      " 'min': 0.5227166356781738,\n",
      " 'sample_sd': 154656.389193081,\n",
      " 'sample_var': 23918598718.241745,\n",
      " 'sum': 5852427.653455213,\n",
      " 'sum_sq': 1890010707667.9536,\n",
      " 'total_count': 53,\n",
      " 'total_sd': 153190.41876959283,\n",
      " 'total_var': 23467304402.803223,\n",
      " 'valid_count': 53,\n",
      " 'weight_sum': 53,\n",
      " 'weighted_sum': 5852427.653455213}\n"
     ]
    }
   ],
   "source": [
    "# Add area column for each country\n",
    "def addAreakm2(feature):\n",
    "    return feature.set({'areakm2' : feature.geometry().area().divide(1000 * 1000)})\n",
    "eu = eu.map(addAreakm2)\n",
    "# pprint(eu.limit(1).getInfo()['features'][0]['properties'])\n",
    "\n",
    "print('Descriptive stats of EU country size:')\n",
    "pprint(eu.aggregate_stats('areakm2'). getInfo())"
   ]
  },
  {
   "cell_type": "markdown",
   "id": "fe39a241-1d8f-4a5b-b360-884864fb798e",
   "metadata": {},
   "source": [
    "### Initialize map centered on EU"
   ]
  },
  {
   "cell_type": "code",
   "execution_count": 12,
   "id": "80b22249-e128-4e8c-b5ca-77481527c137",
   "metadata": {},
   "outputs": [
    {
     "data": {
      "application/vnd.jupyter.widget-view+json": {
       "model_id": "70c42b0888dd4fe295fd5f30458145f6",
       "version_major": 2,
       "version_minor": 0
      },
      "text/plain": [
       "Map(center=[48, 8], controls=(WidgetControl(options=['position', 'transparent_bg'], widget=HBox(children=(Togg…"
      ]
     },
     "metadata": {},
     "output_type": "display_data"
    }
   ],
   "source": [
    "# initialize map\n",
    "center_map = [48, 8]\n",
    "zoom_default = 3\n",
    "map0 = geemap.Map(center=center_map, zoom=zoom_default)\n",
    "# add basemap\n",
    "# map0.add_basemap(\"CartoDB.DarkMatter\")\n",
    "# add country borders\n",
    "map0.addLayer(eu, {}, \"National boundaries\")\n",
    "map0"
   ]
  },
  {
   "cell_type": "markdown",
   "id": "f07c8ded-b0e7-4622-be6e-76f31acf55ca",
   "metadata": {},
   "source": [
    "### Import relavant satellite data collections"
   ]
  },
  {
   "cell_type": "code",
   "execution_count": null,
   "id": "48dabb0f-a8f6-432e-9ac3-f9341644d343",
   "metadata": {},
   "outputs": [],
   "source": [
    "start_date = '2015-04-01'\n",
    "end_date = date.today().strftime('%Y-%m-%d')\n",
    "\n",
    "# subsurface soil moisture # 10km res - 2 or 3 days rev\n",
    "susm = ee.ImageCollection(\"NASA_USDA/HSL/SMAP10KM_soil_moisture\")\\\n",
    "    .select(\"susm\")\\\n",
    "    .filterDate(start_date, end_date)\\\n",
    "    .filterBounds(eu)\n",
    "\n",
    "susm_vparams = {\n",
    "    \"min\": 0.0,\n",
    "    \"max\": 274.6,\n",
    "    \"palette\": ['ff0303', 'efff07', 'efff07', '418504', '0300ff']\n",
    "}\n",
    "\n",
    "# # import a land cover # all bands at 500 m res\n",
    "# lcc = ee.ImageCollection('MODIS/006/MCD12Q1')\\\n",
    "#     .select(\"LC_Type1\")\\\n",
    "#     .filterDate(start_date, end_date)\n",
    "\n",
    "# lcc_vps = {\n",
    "#     \"min\": 1.0,\n",
    "#     \"max\": 17.0,\n",
    "#     \"palette\": [\n",
    "#         '05450a', '086a10', '54a708', '78d203', '009900', 'c6b044', 'dcd159',\n",
    "#         'dade48', 'fbff13', 'b6ff05', '27ff87', 'c24f44', 'a5a5a5', 'ff6d4c',\n",
    "#         '69fff8', 'f9ffa4', '1c0dff'\n",
    "#     ]\n",
    "# }\n",
    "\n",
    "# # import a land surface temperature # 1km res - 1 day rev\n",
    "# lst = ee.ImageCollection('MODIS/006/MOD11A1')\\\n",
    "#     .select('LST_Day_1km')\\\n",
    "#     .filterDate(start_date, end_date)\n",
    "\n",
    "# lst_vps = {\n",
    "#     \"min\": 13000.0,\n",
    "#     \"max\": 16500.0,\n",
    "#     \"palette\": [\n",
    "#         '040274', '040281', '0502a3', '0502b8', '0502ce', '0502e6',\n",
    "#         '0602ff', '235cb1', '307ef3', '269db1', '30c8e2', '32d3ef',\n",
    "#         '3be285', '3ff38f', '86e26f', '3ae237', 'b5e22e', 'd6e21f',\n",
    "#         'fff705', 'ffd611', 'ffb613', 'ff8b13', 'ff6e08', 'ff500d',\n",
    "#         'ff0000', 'de0101', 'c21301', 'a71001', '911003'\n",
    "#     ]\n",
    "# }\n",
    "\n",
    "\n",
    "# # import a ground elevation - 30m res\n",
    "# srtm = ee.Image('USGS/SRTMGL1_003')"
   ]
  },
  {
   "cell_type": "markdown",
   "id": "4d677f63-ff52-4e4d-a77c-fb7df65354e5",
   "metadata": {},
   "source": [
    "### Explore SMAP collection"
   ]
  },
  {
   "cell_type": "code",
   "execution_count": null,
   "id": "a41157bf-5c5d-43bf-bada-1fd9649f82b2",
   "metadata": {},
   "outputs": [],
   "source": [
    "# Get number of images\n",
    "size = susm.size()\n",
    "\n",
    "# Gate date range\n",
    "rango = susm.reduceColumns(ee.Reducer.minMax(), [\"system:time_start\"])\n",
    "\n",
    "init_date = ee.Date(rango.get('min')).getInfo()['value']/1000.\n",
    "init_date_f = dt.utcfromtimestamp(init_date).strftime('%Y-%m-%d %H:%M:%S')\n",
    "\n",
    "last_date = ee.Date(rango.get('max')).getInfo()['value']/1000.\n",
    "last_date_f = dt.utcfromtimestamp(last_date).strftime('%Y-%m-%d %H:%M:%S')\n",
    "\n",
    "print('N images in SMAP collection:', size.getInfo(), '\\nDate range SMAP: ', init_date_f, ' - ', last_date_f) "
   ]
  },
  {
   "cell_type": "markdown",
   "id": "fb9da2ec-eb2f-4723-8acb-db26b4ed8faa",
   "metadata": {},
   "source": [
    "### Clip image on EU"
   ]
  },
  {
   "cell_type": "code",
   "execution_count": null,
   "id": "fe0ea53a-7842-4a82-8069-c501ecd9616d",
   "metadata": {},
   "outputs": [],
   "source": [
    "# susm1 = susm.first()\n",
    "# susm1_eu = susm1.clip(eu)\n",
    "# map0.addLayer(susm1_eu, susm_vparams, 'SMAP Img1 EU')\n",
    "# map0"
   ]
  },
  {
   "cell_type": "code",
   "execution_count": null,
   "id": "fafbfe35-35a5-461a-a70c-d0f5dcfe5e4a",
   "metadata": {},
   "outputs": [],
   "source": [
    "susm_eu = susm.map(lambda img: img.clip(eu))\n",
    "susm_eu.size().getInfo()\n",
    "susm_eu1 = susm_eu.first()\n",
    "map0.addLayer(susm_eu1, susm_vparams, 'SMAP Img1 EU')\n",
    "map0"
   ]
  },
  {
   "cell_type": "markdown",
   "id": "d1f9266a-2d10-4f19-aba9-0b24da161dfc",
   "metadata": {},
   "source": [
    "### Extract data for time series analysis"
   ]
  },
  {
   "cell_type": "code",
   "execution_count": null,
   "id": "60f2b9bd-f308-4115-bafb-e082202d5c20",
   "metadata": {},
   "outputs": [],
   "source": [
    "# test function on single image\n",
    "meanReg = susm_eu1.reduceRegions(\n",
    "    reducer=ee.Reducer.mean(), \n",
    "    collection=eu, \n",
    "    scale=10000)\n",
    "\n",
    "print('Object type:', meanReg.name(), '\\nProperties')\n",
    "pprint(meanReg.limit(1).getInfo()['features'][0]['properties'])"
   ]
  },
  {
   "cell_type": "code",
   "execution_count": null,
   "id": "8d0eebb6-28fe-4c2e-987a-7020e3cf31b4",
   "metadata": {},
   "outputs": [],
   "source": [
    "map0.addLayer(meanReg, {}, \"Avg SMAP Img1 by EU country\")"
   ]
  },
  {
   "cell_type": "code",
   "execution_count": null,
   "id": "72a156f0-ee83-42b3-998c-17cb2657182c",
   "metadata": {},
   "outputs": [],
   "source": [
    "red_susm_eu = susm_eu.map(lambda img: img.reduceRegions(collection=eu,\n",
    "                                                        reducer=ee.Reducer.mean().setOutputs(['mean_sums']),\n",
    "                                                        scale=10000)).flatten()\n",
    "pprint(red_susm_eu.limit(1).getInfo()['features'][0]['properties'])\n",
    "# pprint(red_susm_eu.limit(1).getInfo()['features'][0]['geometry'])"
   ]
  },
  {
   "cell_type": "markdown",
   "id": "5d68069b-ae70-42cb-b2ae-aa330a1c1b19",
   "metadata": {},
   "source": [
    "### Define space units for time series analysis"
   ]
  },
  {
   "cell_type": "code",
   "execution_count": null,
   "id": "f3809bc4-3577-4daa-a725-8affcbcf8b29",
   "metadata": {},
   "outputs": [],
   "source": [
    "# xmin, ymin, xmax, ymax \n",
    "eu_bbox = [-18, 32, 41, 74]\n",
    "\n",
    "susm1 = susm.first()\n",
    "# Check grid size for spatial re-sampling\n",
    "ax = cartoee.get_map(susm1, region=eu_bbox, vis_params=susm_vparams)\n",
    "# add gridlines to the map at a specified interval\n",
    "cartoee.add_gridlines(ax, interval=[5, 5], linestyle=\":\")\n",
    "# add colorbar\n",
    "cartoee.add_colorbar(ax, susm_vparams, loc='right')\n",
    "# set title\n",
    "ax.set_title(label='Sub-Surface Soil Moisture over EU', fontsize=15)\n",
    "plt.show()"
   ]
  },
  {
   "cell_type": "code",
   "execution_count": null,
   "id": "1ee06540-a1f5-48d2-abaa-8c55d05cf607",
   "metadata": {},
   "outputs": [],
   "source": []
  },
  {
   "cell_type": "code",
   "execution_count": null,
   "id": "05f40f64-3a4b-4860-a954-bad8bbdf2502",
   "metadata": {},
   "outputs": [],
   "source": []
  }
 ],
 "metadata": {
  "kernelspec": {
   "display_name": "pygis",
   "language": "python",
   "name": "pygis"
  },
  "language_info": {
   "codemirror_mode": {
    "name": "ipython",
    "version": 3
   },
   "file_extension": ".py",
   "mimetype": "text/x-python",
   "name": "python",
   "nbconvert_exporter": "python",
   "pygments_lexer": "ipython3",
   "version": "3.9.2"
  },
  "toc-autonumbering": false,
  "toc-showcode": false,
  "toc-showmarkdowntxt": false
 },
 "nbformat": 4,
 "nbformat_minor": 5
}
