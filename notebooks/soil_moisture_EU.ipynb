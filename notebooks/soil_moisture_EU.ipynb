{
 "cells": [
  {
   "cell_type": "markdown",
   "id": "04c208ed-ae65-407b-9d49-c86c29db09e9",
   "metadata": {},
   "source": [
    "### Import packages"
   ]
  },
  {
   "cell_type": "code",
   "execution_count": 14,
   "id": "be5cd6b6-d986-4818-9ca3-0a6920ae41e5",
   "metadata": {},
   "outputs": [],
   "source": [
    "import os\n",
    "import ee\n",
    "import geemap\n",
    "import matplotlib.pyplot as plt\n",
    "from geemap import cartoee\n",
    "from zipfile import ZipFile\n",
    "from urllib.request import urlretrieve\n",
    "# from urllib.parse import urljoin\n",
    "import geopandas as gpd\n",
    "from shapely.geometry import MultiPolygon, Polygon\n",
    "from pprint import pprint\n",
    "from datetime import datetime as dt"
   ]
  },
  {
   "cell_type": "code",
   "execution_count": 15,
   "id": "bcb3419a-e9fb-4209-8b3a-b422b7a770cc",
   "metadata": {},
   "outputs": [],
   "source": [
    "ee.Initialize()"
   ]
  },
  {
   "cell_type": "markdown",
   "id": "126cf68b-9f74-4a0b-b890-61a1ce45f87f",
   "metadata": {},
   "source": [
    "### Save paths and urls to variables"
   ]
  },
  {
   "cell_type": "code",
   "execution_count": 16,
   "id": "824ced8a-47a8-4c25-b1ad-4f1fdf0e42a9",
   "metadata": {},
   "outputs": [],
   "source": [
    "# inputdir = \"../data/\"\n",
    "# ne_countries_zip = \"ne_50m_admin_0_countries.zip\"\n",
    "# # ne_provinces_zip = \"ne_10m_admin_1_states_provinces_scale_rank.zip\"\n",
    "\n",
    "# # ne_10m_cultural_download_url = \"https://www.naturalearthdata.com/http//www.naturalearthdata.com/download/10m/cultural/\"\n",
    "# ne_50m_cultural_download_url = \"https://www.naturalearthdata.com/http//www.naturalearthdata.com/download/50m/cultural/\"\n",
    "\n",
    "# ne_countries_shp = \"ne_50m_admin_0_countries.shp\"\n",
    "# # ne_provinces_shp = \"ne_10m_admin_1_states_provinces_scale_rank.shp\"\n",
    "\n",
    "# # define urls and paths\n",
    "# countries_zip_path = os.path.join(inputdir, ne_countries_zip)\n",
    "# # provinces_zip_path = os.path.join(inputdir, ne_provinces_zip)\n",
    "\n",
    "# ne_countries_zip_url = ne_50m_cultural_download_url + ne_countries_zip # explore why urljoin removes one /\n",
    "# # ne_provinces_zip_url = ne_50m_cultural_download_url + ne_provinces_zip\n",
    "\n",
    "# countries_shp_path = os.path.join(inputdir, ne_countries_shp)\n",
    "# # provinces_shp_path = os.path.join(inputdir, ne_provinces_shp)"
   ]
  },
  {
   "cell_type": "markdown",
   "id": "4d3799a3-8796-4c00-b670-319bf657513e",
   "metadata": {},
   "source": [
    "### Download country borders for zonal statistics - source Natural Earth "
   ]
  },
  {
   "cell_type": "code",
   "execution_count": 17,
   "id": "4bda18c7-7aca-4f01-a024-7ccc65106c73",
   "metadata": {},
   "outputs": [],
   "source": [
    "# def get_zip(target_dir, path, url):\n",
    "#     \"\"\"\n",
    "#     Check if file in `path` exists, otherwise download it from `url`\n",
    "#     \"\"\"\n",
    "#     try:\n",
    "#         with ZipFile(path, 'r') as zip:\n",
    "#             print('Extracting all files...')\n",
    "#             zip.extractall(target_dir)\n",
    "#             print('Extracted!')\n",
    "#     except FileNotFoundError:\n",
    "#         print('Zip file not found, downloading now...')\n",
    "#         urlretrieve(url, path)\n",
    "#         print('Downloaded!')\n",
    "#         with ZipFile(path, 'r') as zip:\n",
    "#             # extracting all files\n",
    "#             print('Extracting all files...')\n",
    "#             zip.extractall(target_dir)\n",
    "#             print('Extracted!')\n",
    "#             # print content of target folder\n",
    "#         print(os.listdir(target_dir))"
   ]
  },
  {
   "cell_type": "code",
   "execution_count": 18,
   "id": "8435f342-f714-4738-973c-33b4ec9f671e",
   "metadata": {},
   "outputs": [
    {
     "name": "stdout",
     "output_type": "stream",
     "text": [
      "Extracting all files...\n",
      "Extracted!\n"
     ]
    }
   ],
   "source": [
    "# get_zip(inputdir, countries_zip_path, ne_countries_zip_url)\n",
    "# get_zip(inputdir, provinces_zip_path, ne_provinces_zip_url)"
   ]
  },
  {
   "cell_type": "markdown",
   "id": "f23c924a-c7e5-47b2-b04d-bd28671b18b0",
   "metadata": {},
   "source": [
    "### Subset world countries to include only Europe (excl. Russia)"
   ]
  },
  {
   "cell_type": "code",
   "execution_count": 19,
   "id": "5372041a-a632-470d-8d28-2ab9070d1580",
   "metadata": {},
   "outputs": [],
   "source": [
    "# countries = gpd.read_file(countries_shp_path)\n",
    "# # countries = gpd.read_file(gpd.datasets.get_path(\"naturalearth_lowres\"))\n",
    "# # prov = gpd.read_file(provinces_shp_path)\n",
    "# countries.columns = [x.lower() for x in countries.columns]\n",
    "# # prov.columns = [x.lower() for x in prov.columns]\n",
    "\n",
    "# # subset eu countries \n",
    "# eu = countries.loc[(countries.continent == \"Europe\") & (countries.name != \"Russia\")]\n",
    "# # NOTE: Bug in countries df - French Guyana is France, Svalbard Islands are Norway, etc\n",
    "\n",
    "# # Define custom poly for EU\n",
    "# eu_poly = Polygon([\n",
    "#     (-18.225, 46.429),\n",
    "#     (-8.325, 65,554),\n",
    "#     (28.575, 74.329),\n",
    "#     (34.650, 70.279),\n",
    "#     (41.625, 45.754),\n",
    "#     (26.550, 32.254),\n",
    "#     (-10.800, 34.279),\n",
    "#     (-18.225, 46.429)\n",
    "# ])\n",
    "\n",
    "# # Explode geometries and mask the EU\n",
    "# eu_explo = eu.explode()\n",
    "# eu = eu_explo[eu_explo.intersects(eu_poly)].dissolve(by='name')\n",
    "# eu_fc = geemap.geopandas_to_ee(eu)"
   ]
  },
  {
   "cell_type": "markdown",
   "id": "d1d549eb-ec64-40f7-b56e-2b26c033d940",
   "metadata": {},
   "source": [
    "### Clip provinces with EU countries # too many - look for shape of regions"
   ]
  },
  {
   "cell_type": "code",
   "execution_count": 20,
   "id": "bcc4e5a1-0ee5-4372-8610-ce5c3473cff8",
   "metadata": {},
   "outputs": [],
   "source": [
    "# eu_prov = gpd.overlay(prov, eu, how=\"intersection\")\n",
    "# eu_prov_fc = geemap.geopandas_to_ee(eu_prov)"
   ]
  },
  {
   "cell_type": "code",
   "execution_count": 21,
   "id": "26603c32-abf7-45bb-a2ba-b29384f0b086",
   "metadata": {},
   "outputs": [],
   "source": [
    "# ax = eu.plot(figsize=(25, 10), color='gray')\n",
    "# eu_prov.loc[eu_prov.name_en == \"Italy\"].plot(ax=ax, color=\"red\")"
   ]
  },
  {
   "cell_type": "markdown",
   "id": "f6ad36fe-212c-4bb3-a443-27f4963074ad",
   "metadata": {},
   "source": [
    "### Import country borders frem GEE collection"
   ]
  },
  {
   "cell_type": "code",
   "execution_count": 84,
   "id": "d4025102-3e83-4bce-aaac-bb69b6186fe9",
   "metadata": {},
   "outputs": [
    {
     "data": {
      "text/plain": [
       "53"
      ]
     },
     "execution_count": 84,
     "metadata": {},
     "output_type": "execute_result"
    }
   ],
   "source": [
    "world = ee.FeatureCollection('USDOS/LSIB_SIMPLE/2017')\n",
    "# pprint(world.limit(1).getInfo()['features'][0]['properties'])\n",
    "eu = world.filter(ee.Filter.eq('wld_rgn', 'Europe'))\n",
    "eu = eu.filter(ee.Filter.eq('country_na', 'Russia').Not())\n",
    "eu = eu.filter(ee.Filter.eq('country_na', 'Svalbard').Not())\n",
    "cyp = world.filter(ee.Filter.eq('country_na', 'Cyprus'))\n",
    "eu = ee.FeatureCollection(eu.merge(cyp))\n",
    "eu_size = eu.size()\n",
    "eu_size.getInfo()"
   ]
  },
  {
   "cell_type": "markdown",
   "id": "fe39a241-1d8f-4a5b-b360-884864fb798e",
   "metadata": {},
   "source": [
    "### Initialize leaflet Map centered on EU"
   ]
  },
  {
   "cell_type": "code",
   "execution_count": 85,
   "id": "80b22249-e128-4e8c-b5ca-77481527c137",
   "metadata": {},
   "outputs": [
    {
     "data": {
      "application/vnd.jupyter.widget-view+json": {
       "model_id": "041d49b92ca048729be5208b5395c89e",
       "version_major": 2,
       "version_minor": 0
      },
      "text/plain": [
       "Map(center=[48, 8], controls=(WidgetControl(options=['position', 'transparent_bg'], widget=HBox(children=(Togg…"
      ]
     },
     "metadata": {},
     "output_type": "display_data"
    }
   ],
   "source": [
    "# initialize map\n",
    "center_map = [48, 8]\n",
    "zoom_default = 4\n",
    "map0 = geemap.Map(center=center_map, zoom=zoom_default)\n",
    "# add basemap\n",
    "map0.add_basemap(\"CartoDB.DarkMatter\")\n",
    "# add country borders\n",
    "map0.addLayer(eu_cyp, {}, \"World boundaries\")\n",
    "map0"
   ]
  },
  {
   "cell_type": "markdown",
   "id": "f07c8ded-b0e7-4622-be6e-76f31acf55ca",
   "metadata": {},
   "source": [
    "### Import relavant satellite data collections"
   ]
  },
  {
   "cell_type": "code",
   "execution_count": 23,
   "id": "48dabb0f-a8f6-432e-9ac3-f9341644d343",
   "metadata": {},
   "outputs": [],
   "source": [
    "start_date = '2015-04-01'\n",
    "end_date = '2021-04-22'\n",
    "\n",
    "# subsurface soil moisture # 10km res - 2 or 3 days rev\n",
    "susm = ee.ImageCollection(\"NASA_USDA/HSL/SMAP10KM_soil_moisture\")\\\n",
    "    .select(\"susm\")\\\n",
    "    .filterDate(start_date, end_date)\n",
    "\n",
    "susm_vps = {\n",
    "    \"min\": 0.0,\n",
    "    \"max\": 274.6,\n",
    "    \"palette\": ['ff0303', 'efff07', 'efff07', '418504', '0300ff']\n",
    "}\n",
    "\n",
    "# # import a land cover # all bands at 500 m res\n",
    "# lcc = ee.ImageCollection('MODIS/006/MCD12Q1')\\\n",
    "#     .select(\"LC_Type1\")\\\n",
    "#     .filterDate(start_date, end_date)\n",
    "\n",
    "# lcc_vps = {\n",
    "#     \"min\": 1.0,\n",
    "#     \"max\": 17.0,\n",
    "#     \"palette\": [\n",
    "#         '05450a', '086a10', '54a708', '78d203', '009900', 'c6b044', 'dcd159',\n",
    "#         'dade48', 'fbff13', 'b6ff05', '27ff87', 'c24f44', 'a5a5a5', 'ff6d4c',\n",
    "#         '69fff8', 'f9ffa4', '1c0dff'\n",
    "#     ]\n",
    "# }\n",
    "\n",
    "# # import a land surface temperature # 1km res - 1 day rev\n",
    "# lst = ee.ImageCollection('MODIS/006/MOD11A1')\\\n",
    "#     .select('LST_Day_1km')\\\n",
    "#     .filterDate(start_date, end_date)\n",
    "\n",
    "# lst_vps = {\n",
    "#     \"min\": 13000.0,\n",
    "#     \"max\": 16500.0,\n",
    "#     \"palette\": [\n",
    "#         '040274', '040281', '0502a3', '0502b8', '0502ce', '0502e6',\n",
    "#         '0602ff', '235cb1', '307ef3', '269db1', '30c8e2', '32d3ef',\n",
    "#         '3be285', '3ff38f', '86e26f', '3ae237', 'b5e22e', 'd6e21f',\n",
    "#         'fff705', 'ffd611', 'ffb613', 'ff8b13', 'ff6e08', 'ff500d',\n",
    "#         'ff0000', 'de0101', 'c21301', 'a71001', '911003'\n",
    "#     ]\n",
    "# }\n",
    "\n",
    "\n",
    "# # import a ground elevation - 30m res\n",
    "# srtm = ee.Image('USGS/SRTMGL1_003')"
   ]
  },
  {
   "cell_type": "markdown",
   "id": "4d677f63-ff52-4e4d-a77c-fb7df65354e5",
   "metadata": {},
   "source": [
    "### Explore SMAP collection"
   ]
  },
  {
   "cell_type": "code",
   "execution_count": 54,
   "id": "a41157bf-5c5d-43bf-bada-1fd9649f82b2",
   "metadata": {},
   "outputs": [
    {
     "name": "stdout",
     "output_type": "stream",
     "text": [
      "N images in SMAP: 738 \n",
      "Date range SMAP:  2015-04-02 12:00:00  -  2021-04-21 12:00:00\n"
     ]
    }
   ],
   "source": [
    "# Get number of images\n",
    "size = susm.size()\n",
    "\n",
    "# Gate date range\n",
    "rango = susm.reduceColumns(ee.Reducer.minMax(), [\"system:time_start\"])\n",
    "\n",
    "init_date = ee.Date(rango.get('min')).getInfo()['value']/1000.\n",
    "init_date_f = dt.utcfromtimestamp(init_date).strftime('%Y-%m-%d %H:%M:%S')\n",
    "\n",
    "last_date = ee.Date(rango.get('max')).getInfo()['value']/1000.\n",
    "last_date_f = dt.utcfromtimestamp(last_date).strftime('%Y-%m-%d %H:%M:%S')\n",
    "\n",
    "# Get proprierty names\n",
    "properties = susm.first().propertyNames()\n",
    "properties.getInfo()\n",
    "\n",
    "print('N images in SMAP:', size.getInfo(), '\\nDate range SMAP: ', init_date_f, ' - ', last_date_f) "
   ]
  },
  {
   "cell_type": "markdown",
   "id": "4ee912a8-192b-4494-8211-5901a63cc4e9",
   "metadata": {},
   "source": [
    "### Add first image of SMAP collection, land cover, etc"
   ]
  },
  {
   "cell_type": "code",
   "execution_count": 24,
   "id": "e28a4575-c94d-4583-a867-4fb0863021b1",
   "metadata": {},
   "outputs": [],
   "source": [
    "susm1 = ee.Image(susm.first())\n",
    "# lst1 = ee.Image(lst.first())\n",
    "# lcc1 = ee.Image(lcc.first())\n",
    "# Map.addLayer(susm1, susm_vps, 'First image SMAP')\n",
    "# Map.addLayer(lst1, lst_vps, 'First image LST')\n",
    "# Map.addLayer(lcc1, lcc_vps, 'First image LCC')\n",
    "# Map"
   ]
  },
  {
   "cell_type": "markdown",
   "id": "c666aac8-a61d-483e-8f58-4bbb45c8ccaa",
   "metadata": {},
   "source": [
    "### Define region of interest for time series analysis"
   ]
  },
  {
   "cell_type": "code",
   "execution_count": 25,
   "id": "2d07ef7b-1182-4d92-9678-cd02e8cf5f2b",
   "metadata": {},
   "outputs": [
    {
     "ename": "NameError",
     "evalue": "name 'susm1' is not defined",
     "output_type": "error",
     "traceback": [
      "\u001b[0;31m---------------------------------------------------------------------------\u001b[0m",
      "\u001b[0;31mNameError\u001b[0m                                 Traceback (most recent call last)",
      "\u001b[0;32m<ipython-input-25-90f092fc9562>\u001b[0m in \u001b[0;36m<module>\u001b[0;34m\u001b[0m\n\u001b[1;32m      3\u001b[0m \u001b[0;34m\u001b[0m\u001b[0m\n\u001b[1;32m      4\u001b[0m \u001b[0;31m# Check grid size for spatial re-sampling\u001b[0m\u001b[0;34m\u001b[0m\u001b[0;34m\u001b[0m\u001b[0;34m\u001b[0m\u001b[0m\n\u001b[0;32m----> 5\u001b[0;31m \u001b[0max\u001b[0m \u001b[0;34m=\u001b[0m \u001b[0mcartoee\u001b[0m\u001b[0;34m.\u001b[0m\u001b[0mget_map\u001b[0m\u001b[0;34m(\u001b[0m\u001b[0msusm1\u001b[0m\u001b[0;34m,\u001b[0m \u001b[0mregion\u001b[0m\u001b[0;34m=\u001b[0m\u001b[0meu_bbox\u001b[0m\u001b[0;34m,\u001b[0m \u001b[0mvis_params\u001b[0m\u001b[0;34m=\u001b[0m\u001b[0msusm_vps\u001b[0m\u001b[0;34m)\u001b[0m\u001b[0;34m\u001b[0m\u001b[0;34m\u001b[0m\u001b[0m\n\u001b[0m\u001b[1;32m      6\u001b[0m \u001b[0;31m# add gridlines to the map at a specified interval\u001b[0m\u001b[0;34m\u001b[0m\u001b[0;34m\u001b[0m\u001b[0;34m\u001b[0m\u001b[0m\n\u001b[1;32m      7\u001b[0m \u001b[0mcartoee\u001b[0m\u001b[0;34m.\u001b[0m\u001b[0madd_gridlines\u001b[0m\u001b[0;34m(\u001b[0m\u001b[0max\u001b[0m\u001b[0;34m,\u001b[0m \u001b[0minterval\u001b[0m\u001b[0;34m=\u001b[0m\u001b[0;34m[\u001b[0m\u001b[0;36m2\u001b[0m\u001b[0;34m,\u001b[0m \u001b[0;36m2\u001b[0m\u001b[0;34m]\u001b[0m\u001b[0;34m,\u001b[0m \u001b[0mlinestyle\u001b[0m\u001b[0;34m=\u001b[0m\u001b[0;34m\":\"\u001b[0m\u001b[0;34m)\u001b[0m\u001b[0;34m\u001b[0m\u001b[0;34m\u001b[0m\u001b[0m\n",
      "\u001b[0;31mNameError\u001b[0m: name 'susm1' is not defined"
     ]
    }
   ],
   "source": [
    "# xmin, ymin, xmax, ymax \n",
    "eu_bbox = [-18, 32, 41, 74]\n",
    "\n",
    "# Check grid size for spatial re-sampling\n",
    "ax = cartoee.get_map(susm1, region=eu_bbox, vis_params=susm_vps)\n",
    "# add gridlines to the map at a specified interval\n",
    "cartoee.add_gridlines(ax, interval=[2, 2], linestyle=\":\")\n",
    "# add colorbar\n",
    "cartoee.add_colorbar(ax, susm_vps, loc='right')\n",
    "# set title\n",
    "ax.set_title(label='Sub-Surface Soil Moisture over EU', fontsize=15)\n",
    "plt.show()"
   ]
  },
  {
   "cell_type": "markdown",
   "id": "d1f9266a-2d10-4f19-aba9-0b24da161dfc",
   "metadata": {},
   "source": [
    "### Extract data for time series analysis"
   ]
  },
  {
   "cell_type": "code",
   "execution_count": null,
   "id": "60f2b9bd-f308-4115-bafb-e082202d5c20",
   "metadata": {},
   "outputs": [],
   "source": [
    "# test function on single image\n",
    "img = susm.first()\n",
    "stats_img = img.reduceRegions(\n",
    "    reducer=ee.Reducer.mean(), \n",
    "    collection=eu_fc, \n",
    "    scale=10000)\n",
    "# pprint(stats_img.limit(1).getInfo()['features'][0]['properties'])"
   ]
  },
  {
   "cell_type": "code",
   "execution_count": 61,
   "id": "d34f9590-734a-4d0f-bafe-230b086bf234",
   "metadata": {},
   "outputs": [
    {
     "data": {
      "text/plain": [
       "'ImageCollection'"
      ]
     },
     "execution_count": 61,
     "metadata": {},
     "output_type": "execute_result"
    }
   ],
   "source": [
    "# map function over ImageCollection\n",
    "def regMean(image):\n",
    "    return image.addBands(\n",
    "        image.reduceRegions(\n",
    "            reducer=ee.Reducer.mean(),\n",
    "            collection=eu_fc,\n",
    "            scale=10000))\n",
    "\n",
    "susm_mean = susm.map(regMean)\n",
    "susm_mean.name() # the method .name() returns the type of EE object"
   ]
  },
  {
   "cell_type": "code",
   "execution_count": null,
   "id": "46b27981-21e3-49ed-b8f9-d7269224a6bf",
   "metadata": {},
   "outputs": [],
   "source": [
    "images = susm_mean.map(lambda feature: ee.Image(ee.Number(susm_mean.get('mean'))))"
   ]
  },
  {
   "cell_type": "code",
   "execution_count": null,
   "id": "a769d746-3f07-4f3c-9581-de4a62a8f831",
   "metadata": {},
   "outputs": [],
   "source": []
  }
 ],
 "metadata": {
  "kernelspec": {
   "display_name": "pygis",
   "language": "python",
   "name": "pygis"
  },
  "language_info": {
   "codemirror_mode": {
    "name": "ipython",
    "version": 3
   },
   "file_extension": ".py",
   "mimetype": "text/x-python",
   "name": "python",
   "nbconvert_exporter": "python",
   "pygments_lexer": "ipython3",
   "version": "3.9.2"
  },
  "toc-autonumbering": false,
  "toc-showcode": false,
  "toc-showmarkdowntxt": false
 },
 "nbformat": 4,
 "nbformat_minor": 5
}
