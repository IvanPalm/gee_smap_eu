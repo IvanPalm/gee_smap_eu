{
 "cells": [
  {
   "cell_type": "code",
   "execution_count": 24,
   "id": "5ca7ceba-4efb-48b7-8d01-663fe6027519",
   "metadata": {},
   "outputs": [],
   "source": [
    "import ee\n",
    "import geemap\n",
    "from datetime import datetime as dt\n",
    "from datetime import date\n",
    "from pprint import pprint"
   ]
  },
  {
   "cell_type": "code",
   "execution_count": 25,
   "id": "aedb6c68-81aa-46e0-98e2-36e815d345e6",
   "metadata": {},
   "outputs": [],
   "source": [
    "ee.Initialize()"
   ]
  },
  {
   "cell_type": "markdown",
   "id": "008f6bc6-6122-4c8e-8c21-91c3a40627aa",
   "metadata": {},
   "source": [
    "### Subset EU country boundaries"
   ]
  },
  {
   "cell_type": "code",
   "execution_count": 26,
   "id": "d56b360d-d763-4fa5-b6e9-c05deda16f52",
   "metadata": {},
   "outputs": [],
   "source": [
    "world = ee.FeatureCollection('USDOS/LSIB_SIMPLE/2017')\n",
    "# subset EU # how to combine them in one call?\n",
    "eu = world.filter(ee.Filter.eq('wld_rgn', 'Europe'))\n",
    "eu = eu.filter(ee.Filter.eq('country_na', 'Russia').Not())\n",
    "eu = eu.filter(ee.Filter.eq('country_na', 'Svalbard').Not())\n",
    "cyp = world.filter(ee.Filter.eq('country_na', 'Cyprus'))\n",
    "\n",
    "eu = ee.FeatureCollection(eu.merge(cyp))"
   ]
  },
  {
   "cell_type": "markdown",
   "id": "189129ce-3430-449d-9a7d-59a925c085ba",
   "metadata": {},
   "source": [
    "### Get SMAP collection"
   ]
  },
  {
   "cell_type": "code",
   "execution_count": 27,
   "id": "18141a49-42cb-4746-9b50-1e51179efc8f",
   "metadata": {},
   "outputs": [],
   "source": [
    "start_date = '2015-04-01'\n",
    "end_date = date.today().strftime('%Y-%m-%d')\n",
    "\n",
    "# subsurface soil moisture # 10km res - 2 or 3 days rev\n",
    "susm = ee.ImageCollection(\"NASA_USDA/HSL/SMAP10KM_soil_moisture\")\\\n",
    "    .select(\"susm\")\\\n",
    "    .filterDate(start_date, end_date)\n",
    "\n",
    "susm_vparams = {\n",
    "    \"min\": 0.0,\n",
    "    \"max\": 274.6,\n",
    "    \"palette\": ['ff0303', 'efff07', 'efff07', '418504', '0300ff']\n",
    "}"
   ]
  },
  {
   "cell_type": "markdown",
   "id": "935c1ba8-9b16-4924-bf37-17b60a20ea0d",
   "metadata": {},
   "source": [
    "### Explore SMAP collection"
   ]
  },
  {
   "cell_type": "code",
   "execution_count": 28,
   "id": "5d7395c3-2780-4b76-a1b6-5568b4b0ab22",
   "metadata": {},
   "outputs": [
    {
     "name": "stdout",
     "output_type": "stream",
     "text": [
      "N images in SMAP collection: 739 \n",
      "Date range SMAP:  2015-04-02 12:00:00  -  2021-04-24 12:00:00\n"
     ]
    }
   ],
   "source": [
    "# Get number of images\n",
    "size = susm.size()\n",
    "\n",
    "# Gate date range\n",
    "rango = susm.reduceColumns(ee.Reducer.minMax(), [\"system:time_start\"])\n",
    "\n",
    "init_date = ee.Date(rango.get('min')).getInfo()['value']/1000.\n",
    "init_date_f = dt.utcfromtimestamp(init_date).strftime('%Y-%m-%d %H:%M:%S')\n",
    "\n",
    "last_date = ee.Date(rango.get('max')).getInfo()['value']/1000.\n",
    "last_date_f = dt.utcfromtimestamp(last_date).strftime('%Y-%m-%d %H:%M:%S')\n",
    "\n",
    "print('N images in SMAP collection:', size.getInfo(), '\\nDate range SMAP: ', init_date_f, ' - ', last_date_f) "
   ]
  },
  {
   "cell_type": "markdown",
   "id": "e2e999e3-df95-47ea-8f71-617fc4af34b1",
   "metadata": {},
   "source": [
    "### Extract data for time series analysis"
   ]
  },
  {
   "cell_type": "code",
   "execution_count": 30,
   "id": "1554992e-4ac6-469e-b3ed-0aa72bad0c47",
   "metadata": {},
   "outputs": [
    {
     "name": "stdout",
     "output_type": "stream",
     "text": [
      "Object type: FeatureCollection \n",
      "Properties\n",
      "{'abbreviati': 'Ukr.',\n",
      " 'country_co': 'UP',\n",
      " 'country_na': 'Ukraine',\n",
      " 'mean': 105.05070243393943,\n",
      " 'wld_rgn': 'Europe'}\n"
     ]
    }
   ],
   "source": [
    "# test on single image\n",
    "susm1 = susm.first()\n",
    "meanReg = susm1.reduceRegions(\n",
    "    reducer=ee.Reducer.mean(), \n",
    "    collection=eu, \n",
    "    scale=10000)\n",
    "\n",
    "print('Object type:', meanReg.name(), '\\nProperties')\n",
    "pprint(meanReg.limit(1).getInfo()['features'][0]['properties'])"
   ]
  },
  {
   "cell_type": "code",
   "execution_count": 31,
   "id": "fa3d17c7-405b-46df-a4c2-3bedd7f8709c",
   "metadata": {},
   "outputs": [
    {
     "name": "stdout",
     "output_type": "stream",
     "text": [
      "Object type: ImageCollection\n"
     ]
    }
   ],
   "source": [
    "# map function over ImageCollection\n",
    "def regMean(image):\n",
    "    return image.reduceRegions(\n",
    "        reducer=ee.Reducer.mean(),\n",
    "        collection=eu,\n",
    "        scale=10000)\n",
    "\n",
    "susm_mean = susm.map(regMean)\n",
    "print('Object type:', susm_mean.name())"
   ]
  },
  {
   "cell_type": "code",
   "execution_count": 32,
   "id": "741e77e7-7d71-48f3-80b5-444ab8b2aed2",
   "metadata": {},
   "outputs": [
    {
     "data": {
      "text/plain": [
       "['date_range',\n",
       " 'period',\n",
       " 'type_name',\n",
       " 'max_mirrored_version',\n",
       " 'thumb',\n",
       " 'description',\n",
       " 'source_tags',\n",
       " 'system:id',\n",
       " 'visualization_0_max',\n",
       " 'provider_url',\n",
       " 'title',\n",
       " 'sample',\n",
       " 'tags',\n",
       " 'product_tags',\n",
       " 'visualization_0_palette',\n",
       " 'provider',\n",
       " 'visualization_0_min',\n",
       " 'system:version',\n",
       " 'visualization_0_name',\n",
       " 'visualization_0_bands']"
      ]
     },
     "execution_count": 32,
     "metadata": {},
     "output_type": "execute_result"
    }
   ],
   "source": [
    "susm_mean.propertyNames().getInfo()"
   ]
  },
  {
   "cell_type": "code",
   "execution_count": 33,
   "id": "79902b3f-2a1c-4b85-9ab9-c70987cbed96",
   "metadata": {},
   "outputs": [
    {
     "name": "stdout",
     "output_type": "stream",
     "text": [
      "Object type: Image\n"
     ]
    }
   ],
   "source": [
    "susm_m1 = susm_mean.first()\n",
    "print('Object type:', susm_m1.name())"
   ]
  },
  {
   "cell_type": "code",
   "execution_count": 34,
   "id": "3daaeeb1-926a-4412-b05d-10aac50809d4",
   "metadata": {},
   "outputs": [
    {
     "data": {
      "text/plain": [
       "['system:index']"
      ]
     },
     "execution_count": 34,
     "metadata": {},
     "output_type": "execute_result"
    }
   ],
   "source": [
    "susm_m1.propertyNames().getInfo()"
   ]
  },
  {
   "cell_type": "markdown",
   "id": "9ba222dc-4c20-4932-b51b-d9b5ca91c312",
   "metadata": {},
   "source": [
    "### Initialize map centered on EU"
   ]
  },
  {
   "cell_type": "code",
   "execution_count": 36,
   "id": "30e3bc92-9687-4ad2-a354-b6091669560d",
   "metadata": {},
   "outputs": [
    {
     "data": {
      "application/vnd.jupyter.widget-view+json": {
       "model_id": "0fced8f15649494297c1ba4d6da9a374",
       "version_major": 2,
       "version_minor": 0
      },
      "text/plain": [
       "Map(center=[48, 8], controls=(WidgetControl(options=['position', 'transparent_bg'], widget=HBox(children=(Togg…"
      ]
     },
     "metadata": {},
     "output_type": "display_data"
    }
   ],
   "source": [
    "# initialize map\n",
    "center_map = [48, 8]\n",
    "zoom_default = 3\n",
    "map0 = geemap.Map(center=center_map, zoom=zoom_default)\n",
    "# add basemap\n",
    "# map0.add_basemap(\"CartoDB.DarkMatter\")\n",
    "# add country borders\n",
    "map0.addLayer(eu, {}, \"National boundaries\")\n",
    "# add test on single image\n",
    "map0.addLayer(meanReg, {}, 'Average SMAP Img1 EU countries')\n",
    "map0"
   ]
  },
  {
   "cell_type": "code",
   "execution_count": 37,
   "id": "b798cac4-2cd5-4de4-8524-d3739a819bb6",
   "metadata": {},
   "outputs": [
    {
     "ename": "EEException",
     "evalue": "Expression does not evaluate to an image.",
     "output_type": "error",
     "traceback": [
      "\u001b[0;31m---------------------------------------------------------------------------\u001b[0m",
      "\u001b[0;31mHttpError\u001b[0m                                 Traceback (most recent call last)",
      "\u001b[0;32m~/miniconda3/envs/pygis/lib/python3.9/site-packages/ee/data.py\u001b[0m in \u001b[0;36m_execute_cloud_call\u001b[0;34m(call, num_retries)\u001b[0m\n\u001b[1;32m    333\u001b[0m   \u001b[0;32mtry\u001b[0m\u001b[0;34m:\u001b[0m\u001b[0;34m\u001b[0m\u001b[0;34m\u001b[0m\u001b[0m\n\u001b[0;32m--> 334\u001b[0;31m     \u001b[0;32mreturn\u001b[0m \u001b[0mcall\u001b[0m\u001b[0;34m.\u001b[0m\u001b[0mexecute\u001b[0m\u001b[0;34m(\u001b[0m\u001b[0mnum_retries\u001b[0m\u001b[0;34m=\u001b[0m\u001b[0mnum_retries\u001b[0m\u001b[0;34m)\u001b[0m\u001b[0;34m\u001b[0m\u001b[0;34m\u001b[0m\u001b[0m\n\u001b[0m\u001b[1;32m    335\u001b[0m   \u001b[0;32mexcept\u001b[0m \u001b[0mgoogleapiclient\u001b[0m\u001b[0;34m.\u001b[0m\u001b[0merrors\u001b[0m\u001b[0;34m.\u001b[0m\u001b[0mHttpError\u001b[0m \u001b[0;32mas\u001b[0m \u001b[0me\u001b[0m\u001b[0;34m:\u001b[0m\u001b[0;34m\u001b[0m\u001b[0;34m\u001b[0m\u001b[0m\n",
      "\u001b[0;32m~/miniconda3/envs/pygis/lib/python3.9/site-packages/googleapiclient/_helpers.py\u001b[0m in \u001b[0;36mpositional_wrapper\u001b[0;34m(*args, **kwargs)\u001b[0m\n\u001b[1;32m    133\u001b[0m                     \u001b[0mlogger\u001b[0m\u001b[0;34m.\u001b[0m\u001b[0mwarning\u001b[0m\u001b[0;34m(\u001b[0m\u001b[0mmessage\u001b[0m\u001b[0;34m)\u001b[0m\u001b[0;34m\u001b[0m\u001b[0;34m\u001b[0m\u001b[0m\n\u001b[0;32m--> 134\u001b[0;31m             \u001b[0;32mreturn\u001b[0m \u001b[0mwrapped\u001b[0m\u001b[0;34m(\u001b[0m\u001b[0;34m*\u001b[0m\u001b[0margs\u001b[0m\u001b[0;34m,\u001b[0m \u001b[0;34m**\u001b[0m\u001b[0mkwargs\u001b[0m\u001b[0;34m)\u001b[0m\u001b[0;34m\u001b[0m\u001b[0;34m\u001b[0m\u001b[0m\n\u001b[0m\u001b[1;32m    135\u001b[0m \u001b[0;34m\u001b[0m\u001b[0m\n",
      "\u001b[0;32m~/miniconda3/envs/pygis/lib/python3.9/site-packages/googleapiclient/http.py\u001b[0m in \u001b[0;36mexecute\u001b[0;34m(self, http, num_retries)\u001b[0m\n\u001b[1;32m    914\u001b[0m         \u001b[0;32mif\u001b[0m \u001b[0mresp\u001b[0m\u001b[0;34m.\u001b[0m\u001b[0mstatus\u001b[0m \u001b[0;34m>=\u001b[0m \u001b[0;36m300\u001b[0m\u001b[0;34m:\u001b[0m\u001b[0;34m\u001b[0m\u001b[0;34m\u001b[0m\u001b[0m\n\u001b[0;32m--> 915\u001b[0;31m             \u001b[0;32mraise\u001b[0m \u001b[0mHttpError\u001b[0m\u001b[0;34m(\u001b[0m\u001b[0mresp\u001b[0m\u001b[0;34m,\u001b[0m \u001b[0mcontent\u001b[0m\u001b[0;34m,\u001b[0m \u001b[0muri\u001b[0m\u001b[0;34m=\u001b[0m\u001b[0mself\u001b[0m\u001b[0;34m.\u001b[0m\u001b[0muri\u001b[0m\u001b[0;34m)\u001b[0m\u001b[0;34m\u001b[0m\u001b[0;34m\u001b[0m\u001b[0m\n\u001b[0m\u001b[1;32m    916\u001b[0m         \u001b[0;32mreturn\u001b[0m \u001b[0mself\u001b[0m\u001b[0;34m.\u001b[0m\u001b[0mpostproc\u001b[0m\u001b[0;34m(\u001b[0m\u001b[0mresp\u001b[0m\u001b[0;34m,\u001b[0m \u001b[0mcontent\u001b[0m\u001b[0;34m)\u001b[0m\u001b[0;34m\u001b[0m\u001b[0;34m\u001b[0m\u001b[0m\n",
      "\u001b[0;31mHttpError\u001b[0m: <HttpError 400 when requesting https://earthengine.googleapis.com/v1alpha/projects/earthengine-legacy/maps?fields=name&alt=json returned \"Expression does not evaluate to an image.\". Details: \"Expression does not evaluate to an image.\">",
      "\nDuring handling of the above exception, another exception occurred:\n",
      "\u001b[0;31mEEException\u001b[0m                               Traceback (most recent call last)",
      "\u001b[0;32m<ipython-input-37-16facbbaf0b6>\u001b[0m in \u001b[0;36m<module>\u001b[0;34m\u001b[0m\n\u001b[0;32m----> 1\u001b[0;31m \u001b[0mmap0\u001b[0m\u001b[0;34m.\u001b[0m\u001b[0maddLayer\u001b[0m\u001b[0;34m(\u001b[0m\u001b[0msusm_m1\u001b[0m\u001b[0;34m,\u001b[0m \u001b[0;34m{\u001b[0m\u001b[0;34m}\u001b[0m\u001b[0;34m,\u001b[0m \u001b[0;34m'Test average mapped over collection'\u001b[0m\u001b[0;34m)\u001b[0m\u001b[0;34m\u001b[0m\u001b[0;34m\u001b[0m\u001b[0m\n\u001b[0m",
      "\u001b[0;32m~/miniconda3/envs/pygis/lib/python3.9/site-packages/geemap/geemap.py\u001b[0m in \u001b[0;36madd_ee_layer\u001b[0;34m(self, ee_object, vis_params, name, shown, opacity)\u001b[0m\n\u001b[1;32m   1329\u001b[0m                 \u001b[0;32mraise\u001b[0m \u001b[0mException\u001b[0m\u001b[0;34m(\u001b[0m\u001b[0me\u001b[0m\u001b[0;34m)\u001b[0m\u001b[0;34m\u001b[0m\u001b[0;34m\u001b[0m\u001b[0m\n\u001b[1;32m   1330\u001b[0m \u001b[0;34m\u001b[0m\u001b[0m\n\u001b[0;32m-> 1331\u001b[0;31m         \u001b[0mmap_id_dict\u001b[0m \u001b[0;34m=\u001b[0m \u001b[0mee\u001b[0m\u001b[0;34m.\u001b[0m\u001b[0mImage\u001b[0m\u001b[0;34m(\u001b[0m\u001b[0mimage\u001b[0m\u001b[0;34m)\u001b[0m\u001b[0;34m.\u001b[0m\u001b[0mgetMapId\u001b[0m\u001b[0;34m(\u001b[0m\u001b[0mvis_params\u001b[0m\u001b[0;34m)\u001b[0m\u001b[0;34m\u001b[0m\u001b[0;34m\u001b[0m\u001b[0m\n\u001b[0m\u001b[1;32m   1332\u001b[0m         tile_layer = TileLayer(\n\u001b[1;32m   1333\u001b[0m             \u001b[0murl\u001b[0m\u001b[0;34m=\u001b[0m\u001b[0mmap_id_dict\u001b[0m\u001b[0;34m[\u001b[0m\u001b[0;34m\"tile_fetcher\"\u001b[0m\u001b[0;34m]\u001b[0m\u001b[0;34m.\u001b[0m\u001b[0murl_format\u001b[0m\u001b[0;34m,\u001b[0m\u001b[0;34m\u001b[0m\u001b[0;34m\u001b[0m\u001b[0m\n",
      "\u001b[0;32m~/miniconda3/envs/pygis/lib/python3.9/site-packages/ee/image.py\u001b[0m in \u001b[0;36mgetMapId\u001b[0;34m(self, vis_params)\u001b[0m\n\u001b[1;32m    129\u001b[0m     \u001b[0mvis_image\u001b[0m\u001b[0;34m,\u001b[0m \u001b[0mrequest\u001b[0m \u001b[0;34m=\u001b[0m \u001b[0mself\u001b[0m\u001b[0;34m.\u001b[0m\u001b[0m_apply_visualization\u001b[0m\u001b[0;34m(\u001b[0m\u001b[0mvis_params\u001b[0m\u001b[0;34m)\u001b[0m\u001b[0;34m\u001b[0m\u001b[0;34m\u001b[0m\u001b[0m\n\u001b[1;32m    130\u001b[0m     \u001b[0mrequest\u001b[0m\u001b[0;34m[\u001b[0m\u001b[0;34m'image'\u001b[0m\u001b[0;34m]\u001b[0m \u001b[0;34m=\u001b[0m \u001b[0mvis_image\u001b[0m\u001b[0;34m\u001b[0m\u001b[0;34m\u001b[0m\u001b[0m\n\u001b[0;32m--> 131\u001b[0;31m     \u001b[0mresponse\u001b[0m \u001b[0;34m=\u001b[0m \u001b[0mdata\u001b[0m\u001b[0;34m.\u001b[0m\u001b[0mgetMapId\u001b[0m\u001b[0;34m(\u001b[0m\u001b[0mrequest\u001b[0m\u001b[0;34m)\u001b[0m\u001b[0;34m\u001b[0m\u001b[0;34m\u001b[0m\u001b[0m\n\u001b[0m\u001b[1;32m    132\u001b[0m     \u001b[0mresponse\u001b[0m\u001b[0;34m[\u001b[0m\u001b[0;34m'image'\u001b[0m\u001b[0;34m]\u001b[0m \u001b[0;34m=\u001b[0m \u001b[0mself\u001b[0m\u001b[0;34m\u001b[0m\u001b[0;34m\u001b[0m\u001b[0m\n\u001b[1;32m    133\u001b[0m     \u001b[0;32mreturn\u001b[0m \u001b[0mresponse\u001b[0m\u001b[0;34m\u001b[0m\u001b[0;34m\u001b[0m\u001b[0m\n",
      "\u001b[0;32m~/miniconda3/envs/pygis/lib/python3.9/site-packages/ee/data.py\u001b[0m in \u001b[0;36mgetMapId\u001b[0;34m(params)\u001b[0m\n\u001b[1;32m    573\u001b[0m   \u001b[0;31m# Make it return only the name field, as otherwise it echoes the entire\u001b[0m\u001b[0;34m\u001b[0m\u001b[0;34m\u001b[0m\u001b[0;34m\u001b[0m\u001b[0m\n\u001b[1;32m    574\u001b[0m   \u001b[0;31m# request, which might be large.\u001b[0m\u001b[0;34m\u001b[0m\u001b[0;34m\u001b[0m\u001b[0;34m\u001b[0m\u001b[0m\n\u001b[0;32m--> 575\u001b[0;31m   result = _execute_cloud_call(\n\u001b[0m\u001b[1;32m    576\u001b[0m       _get_cloud_api_resource().projects().maps().create(\n\u001b[1;32m    577\u001b[0m           parent=_get_projects_path(), fields='name', body=request))\n",
      "\u001b[0;32m~/miniconda3/envs/pygis/lib/python3.9/site-packages/ee/data.py\u001b[0m in \u001b[0;36m_execute_cloud_call\u001b[0;34m(call, num_retries)\u001b[0m\n\u001b[1;32m    334\u001b[0m     \u001b[0;32mreturn\u001b[0m \u001b[0mcall\u001b[0m\u001b[0;34m.\u001b[0m\u001b[0mexecute\u001b[0m\u001b[0;34m(\u001b[0m\u001b[0mnum_retries\u001b[0m\u001b[0;34m=\u001b[0m\u001b[0mnum_retries\u001b[0m\u001b[0;34m)\u001b[0m\u001b[0;34m\u001b[0m\u001b[0;34m\u001b[0m\u001b[0m\n\u001b[1;32m    335\u001b[0m   \u001b[0;32mexcept\u001b[0m \u001b[0mgoogleapiclient\u001b[0m\u001b[0;34m.\u001b[0m\u001b[0merrors\u001b[0m\u001b[0;34m.\u001b[0m\u001b[0mHttpError\u001b[0m \u001b[0;32mas\u001b[0m \u001b[0me\u001b[0m\u001b[0;34m:\u001b[0m\u001b[0;34m\u001b[0m\u001b[0;34m\u001b[0m\u001b[0m\n\u001b[0;32m--> 336\u001b[0;31m     \u001b[0;32mraise\u001b[0m \u001b[0m_translate_cloud_exception\u001b[0m\u001b[0;34m(\u001b[0m\u001b[0me\u001b[0m\u001b[0;34m)\u001b[0m\u001b[0;34m\u001b[0m\u001b[0;34m\u001b[0m\u001b[0m\n\u001b[0m\u001b[1;32m    337\u001b[0m \u001b[0;34m\u001b[0m\u001b[0m\n\u001b[1;32m    338\u001b[0m \u001b[0;34m\u001b[0m\u001b[0m\n",
      "\u001b[0;31mEEException\u001b[0m: Expression does not evaluate to an image."
     ]
    }
   ],
   "source": [
    "map0.addLayer(susm_m1, {}, 'Test average mapped over collection')"
   ]
  },
  {
   "cell_type": "code",
   "execution_count": null,
   "id": "ffa9555f-a058-4825-9911-24d3f866d759",
   "metadata": {},
   "outputs": [],
   "source": []
  }
 ],
 "metadata": {
  "kernelspec": {
   "display_name": "pygis",
   "language": "python",
   "name": "pygis"
  },
  "language_info": {
   "codemirror_mode": {
    "name": "ipython",
    "version": 3
   },
   "file_extension": ".py",
   "mimetype": "text/x-python",
   "name": "python",
   "nbconvert_exporter": "python",
   "pygments_lexer": "ipython3",
   "version": "3.9.2"
  }
 },
 "nbformat": 4,
 "nbformat_minor": 5
}
